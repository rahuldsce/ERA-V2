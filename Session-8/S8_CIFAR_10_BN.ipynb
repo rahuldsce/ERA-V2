{
  "cells": [
    {
      "cell_type": "code",
      "execution_count": null,
      "metadata": {},
      "outputs": [],
      "source": [
        "!rm -rf pytorch_utils\n",
        "!git clone https://github.com/rahuldsce/pytorch_utils.git"
      ]
    },
    {
      "cell_type": "code",
      "execution_count": 66,
      "metadata": {
        "id": "_lisZKZzxTFX"
      },
      "outputs": [],
      "source": [
        "import torch\n",
        "import torchvision\n",
        "import torchvision.transforms as transforms\n",
        "from torchsummary import summary"
      ]
    },
    {
      "cell_type": "code",
      "execution_count": 67,
      "metadata": {
        "id": "rYfCOzmIzyx9"
      },
      "outputs": [],
      "source": [
        "import torch.nn as nn\n",
        "import torch.nn.functional as F"
      ]
    },
    {
      "cell_type": "code",
      "execution_count": null,
      "metadata": {},
      "outputs": [],
      "source": [
        "from pytorch_utils import dataset\n",
        "train, test = dataset.cifar10()"
      ]
    },
    {
      "cell_type": "code",
      "execution_count": 70,
      "metadata": {
        "colab": {
          "base_uri": "https://localhost:8080/"
        },
        "id": "-zuwrzt8yRoB",
        "outputId": "6117ee63-9603-40ae-c05a-a178a4a96d10"
      },
      "outputs": [
        {
          "name": "stdout",
          "output_type": "stream",
          "text": [
            "CUDA Available? True\n"
          ]
        }
      ],
      "source": [
        "SEED = 1\n",
        "\n",
        "# CUDA?\n",
        "cuda = torch.cuda.is_available()\n",
        "print(\"CUDA Available?\", cuda)\n",
        "\n",
        "# For reproducibility\n",
        "torch.manual_seed(SEED)\n",
        "\n",
        "if cuda:\n",
        "    torch.cuda.manual_seed(SEED)\n",
        "\n",
        "# dataloader arguments - something you'll fetch these from cmdprmt\n",
        "dataloader_args = dict(shuffle=True, batch_size=128, num_workers=2, pin_memory=True) if cuda else dict(shuffle=True, batch_size=64)\n",
        "\n",
        "# train dataloader\n",
        "train_loader = torch.utils.data.DataLoader(train, **dataloader_args)\n",
        "\n",
        "# test dataloader\n",
        "test_loader = torch.utils.data.DataLoader(test, **dataloader_args)"
      ]
    },
    {
      "cell_type": "code",
      "execution_count": 71,
      "metadata": {
        "id": "BNZ08eEEzaJC"
      },
      "outputs": [],
      "source": [
        "class Net(nn.Module):\n",
        "  def conv_block (self, in_channels, out_channels, kernel_size, padding = 1) :\n",
        "        return nn.Sequential(\n",
        "              nn.Conv2d (in_channels = in_channels, out_channels = out_channels, kernel_size = kernel_size, padding = padding, bias = False),\n",
        "              nn.ReLU(),\n",
        "              nn.BatchNorm2d(out_channels),\n",
        "              nn.Dropout(0.1))\n",
        "\n",
        "  def trans_block (self, in_channels, out_channels):\n",
        "    return nn.Sequential(\n",
        "            nn.MaxPool2d(2, 2),\n",
        "            nn.Conv2d(in_channels=in_channels, out_channels=out_channels, kernel_size = 1, padding = 0, bias = False))\n",
        "\n",
        "  def out_block(self, in_channels, kernel_size = 1):\n",
        "    return nn.Sequential(nn.Conv2d(in_channels=in_channels, out_channels=10, kernel_size = kernel_size, padding = 0, bias = False))\n",
        "\n",
        "  def __init__(self, opts=[]):\n",
        "        super(Net, self).__init__()\n",
        "        self.conv1 = self.conv_block(3, 16, 3) #32\n",
        "        self.conv2 = self.conv_block(16, 32, 3) #32\n",
        "        self.trans1 = self.trans_block(32, 16) #32\n",
        "        self.conv3 = self.conv_block(16, 16, 3) #16\n",
        "        self.conv4 = self.conv_block(16, 32, 3) #16\n",
        "        self.conv5 = self.conv_block(32, 32, 3) #16\n",
        "        self.trans2 = self.trans_block(32, 16) #16\n",
        "        self.conv6 = self.conv_block(16, 16, 3) #8\n",
        "        self.conv7 = self.conv_block(16, 32, 3) #8\n",
        "        self.conv8 = self.conv_block(32, 32, 3) #8\n",
        "        self.gap = nn.Sequential(nn.AvgPool2d(kernel_size=8))\n",
        "        self.out = self.out_block(32, 1)\n",
        "        self.pool = nn.MaxPool2d(2, 2)\n",
        "\n",
        "\n",
        "  def forward(self, x):\n",
        "      x = self.conv1(x)\n",
        "      x = self.conv2(x)\n",
        "      x = self.trans1(x)\n",
        "      x = self.conv3(x)\n",
        "      x = self.conv4(x)\n",
        "      x = self.conv5(x)\n",
        "      x = self.trans2(x)\n",
        "      x = self.conv6(x)\n",
        "      x = self.conv7(x)\n",
        "      x = self.conv8(x)\n",
        "      x = self.gap(x)\n",
        "      x = self.out(x)\n",
        "      x = x.view(-1, 10)\n",
        "      return F.log_softmax(x, dim=-1)"
      ]
    },
    {
      "cell_type": "code",
      "execution_count": 72,
      "metadata": {
        "colab": {
          "base_uri": "https://localhost:8080/"
        },
        "id": "HGJsh2X-1eXx",
        "outputId": "4156fb73-e4a8-42c6-9fc7-6b78e38886f3"
      },
      "outputs": [
        {
          "name": "stdout",
          "output_type": "stream",
          "text": [
            "----------------------------------------------------------------\n",
            "        Layer (type)               Output Shape         Param #\n",
            "================================================================\n",
            "            Conv2d-1           [-1, 16, 32, 32]             432\n",
            "              ReLU-2           [-1, 16, 32, 32]               0\n",
            "       BatchNorm2d-3           [-1, 16, 32, 32]              32\n",
            "           Dropout-4           [-1, 16, 32, 32]               0\n",
            "            Conv2d-5           [-1, 32, 32, 32]           4,608\n",
            "              ReLU-6           [-1, 32, 32, 32]               0\n",
            "       BatchNorm2d-7           [-1, 32, 32, 32]              64\n",
            "           Dropout-8           [-1, 32, 32, 32]               0\n",
            "         MaxPool2d-9           [-1, 32, 16, 16]               0\n",
            "           Conv2d-10           [-1, 16, 16, 16]             512\n",
            "           Conv2d-11           [-1, 16, 16, 16]           2,304\n",
            "             ReLU-12           [-1, 16, 16, 16]               0\n",
            "      BatchNorm2d-13           [-1, 16, 16, 16]              32\n",
            "          Dropout-14           [-1, 16, 16, 16]               0\n",
            "           Conv2d-15           [-1, 32, 16, 16]           4,608\n",
            "             ReLU-16           [-1, 32, 16, 16]               0\n",
            "      BatchNorm2d-17           [-1, 32, 16, 16]              64\n",
            "          Dropout-18           [-1, 32, 16, 16]               0\n",
            "           Conv2d-19           [-1, 32, 16, 16]           9,216\n",
            "             ReLU-20           [-1, 32, 16, 16]               0\n",
            "      BatchNorm2d-21           [-1, 32, 16, 16]              64\n",
            "          Dropout-22           [-1, 32, 16, 16]               0\n",
            "        MaxPool2d-23             [-1, 32, 8, 8]               0\n",
            "           Conv2d-24             [-1, 16, 8, 8]             512\n",
            "           Conv2d-25             [-1, 16, 8, 8]           2,304\n",
            "             ReLU-26             [-1, 16, 8, 8]               0\n",
            "      BatchNorm2d-27             [-1, 16, 8, 8]              32\n",
            "          Dropout-28             [-1, 16, 8, 8]               0\n",
            "           Conv2d-29             [-1, 32, 8, 8]           4,608\n",
            "             ReLU-30             [-1, 32, 8, 8]               0\n",
            "      BatchNorm2d-31             [-1, 32, 8, 8]              64\n",
            "          Dropout-32             [-1, 32, 8, 8]               0\n",
            "           Conv2d-33             [-1, 32, 8, 8]           9,216\n",
            "             ReLU-34             [-1, 32, 8, 8]               0\n",
            "      BatchNorm2d-35             [-1, 32, 8, 8]              64\n",
            "          Dropout-36             [-1, 32, 8, 8]               0\n",
            "        AvgPool2d-37             [-1, 32, 1, 1]               0\n",
            "           Conv2d-38             [-1, 10, 1, 1]             320\n",
            "================================================================\n",
            "Total params: 39,056\n",
            "Trainable params: 39,056\n",
            "Non-trainable params: 0\n",
            "----------------------------------------------------------------\n",
            "Input size (MB): 0.01\n",
            "Forward/backward pass size (MB): 2.40\n",
            "Params size (MB): 0.15\n",
            "Estimated Total Size (MB): 2.56\n",
            "----------------------------------------------------------------\n"
          ]
        }
      ],
      "source": [
        "use_cuda = torch.cuda.is_available()\n",
        "device = torch.device(\"cuda\" if use_cuda else \"cpu\")\n",
        "model = Net().to(device)\n",
        "summary(model, input_size=(3, 32, 32))"
      ]
    },
    {
      "cell_type": "code",
      "execution_count": 80,
      "metadata": {
        "id": "i8FTZZxn4BcB"
      },
      "outputs": [],
      "source": [
        "from tqdm import tqdm\n",
        "\n",
        "train_losses = []\n",
        "test_losses = []\n",
        "train_acc = []\n",
        "test_acc = []\n",
        "\n",
        "def train(model, device, train_loader, optimizer, epoch):\n",
        "  model.train()\n",
        "  pbar = tqdm(train_loader)\n",
        "  correct = 0\n",
        "  processed = 0\n",
        "  for batch_idx, (data, target) in enumerate(pbar):\n",
        "    # get samples\n",
        "    data, target = data.to(device), target.to(device)\n",
        "\n",
        "    # Init\n",
        "    optimizer.zero_grad()\n",
        "    # In PyTorch, we need to set the gradients to zero before starting to do backpropragation because PyTorch accumulates the gradients on subsequent backward passes.\n",
        "    # Because of this, when you start your training loop, ideally you should zero out the gradients so that you do the parameter update correctly.\n",
        "\n",
        "    # Predict\n",
        "    y_pred = model(data)\n",
        "\n",
        "    # Calculate loss\n",
        "    loss = F.nll_loss(y_pred, target)\n",
        "    train_losses.append(loss)\n",
        "\n",
        "    # Backpropagation\n",
        "    loss.backward()\n",
        "    optimizer.step()\n",
        "\n",
        "    # Update pbar-tqdm\n",
        "\n",
        "    pred = y_pred.argmax(dim=1, keepdim=True)  # get the index of the max log-probability\n",
        "    correct += pred.eq(target.view_as(pred)).sum().item()\n",
        "    processed += len(data)\n",
        "\n",
        "    pbar.set_description(desc= f'Loss={loss.item()} Batch_id={batch_idx} Accuracy={100*correct/processed:0.2f}')\n",
        "    train_acc.append(100*correct/processed)\n",
        "\n",
        "def test(model, device, test_loader):\n",
        "    model.eval()\n",
        "    test_loss = 0\n",
        "    correct = 0\n",
        "    with torch.no_grad():\n",
        "        for data, target in test_loader:\n",
        "            data, target = data.to(device), target.to(device)\n",
        "            output = model(data)\n",
        "            test_loss += F.nll_loss(output, target, reduction='sum').item()  # sum up batch loss\n",
        "            pred = output.argmax(dim=1, keepdim=True)  # get the index of the max log-probability\n",
        "            correct += pred.eq(target.view_as(pred)).sum().item()\n",
        "\n",
        "    test_loss /= len(test_loader.dataset)\n",
        "    test_losses.append(test_loss)\n",
        "\n",
        "    print('\\nTest set: Average loss: {:.4f}, Accuracy: {}/{} ({:.2f}%)\\n'.format(\n",
        "        test_loss, correct, len(test_loader.dataset),\n",
        "        100. * correct / len(test_loader.dataset)))\n",
        "\n",
        "    test_acc.append(100. * correct / len(test_loader.dataset))"
      ]
    },
    {
      "cell_type": "code",
      "execution_count": 81,
      "metadata": {
        "colab": {
          "base_uri": "https://localhost:8080/"
        },
        "id": "FuUtTDZz5wAl",
        "outputId": "8463ce5f-be47-4500-f4b5-37a3d43d046e"
      },
      "outputs": [
        {
          "name": "stdout",
          "output_type": "stream",
          "text": [
            "EPOCH: 0\n"
          ]
        },
        {
          "name": "stderr",
          "output_type": "stream",
          "text": [
            "Loss=1.2822734117507935 Batch_id=390 Accuracy=52.64: 100%|██████████| 391/391 [00:24<00:00, 15.94it/s]\n"
          ]
        },
        {
          "name": "stdout",
          "output_type": "stream",
          "text": [
            "\n",
            "Test set: Average loss: 1.2978, Accuracy: 5233/10000 (52.33%)\n",
            "\n",
            "EPOCH: 1\n"
          ]
        },
        {
          "name": "stderr",
          "output_type": "stream",
          "text": [
            "Loss=1.2599891424179077 Batch_id=390 Accuracy=58.70: 100%|██████████| 391/391 [00:24<00:00, 16.10it/s]\n"
          ]
        },
        {
          "name": "stdout",
          "output_type": "stream",
          "text": [
            "\n",
            "Test set: Average loss: 1.1885, Accuracy: 5778/10000 (57.78%)\n",
            "\n",
            "EPOCH: 2\n"
          ]
        },
        {
          "name": "stderr",
          "output_type": "stream",
          "text": [
            "Loss=1.005330204963684 Batch_id=390 Accuracy=62.27: 100%|██████████| 391/391 [00:24<00:00, 16.09it/s]\n"
          ]
        },
        {
          "name": "stdout",
          "output_type": "stream",
          "text": [
            "\n",
            "Test set: Average loss: 1.0021, Accuracy: 6284/10000 (62.84%)\n",
            "\n",
            "EPOCH: 3\n"
          ]
        },
        {
          "name": "stderr",
          "output_type": "stream",
          "text": [
            "Loss=1.2171412706375122 Batch_id=390 Accuracy=64.90: 100%|██████████| 391/391 [00:25<00:00, 15.54it/s]\n"
          ]
        },
        {
          "name": "stdout",
          "output_type": "stream",
          "text": [
            "\n",
            "Test set: Average loss: 0.9645, Accuracy: 6566/10000 (65.66%)\n",
            "\n",
            "EPOCH: 4\n"
          ]
        },
        {
          "name": "stderr",
          "output_type": "stream",
          "text": [
            "Loss=1.025998830795288 Batch_id=390 Accuracy=66.85: 100%|██████████| 391/391 [00:27<00:00, 14.37it/s]\n"
          ]
        },
        {
          "name": "stdout",
          "output_type": "stream",
          "text": [
            "\n",
            "Test set: Average loss: 0.9176, Accuracy: 6731/10000 (67.31%)\n",
            "\n",
            "EPOCH: 5\n"
          ]
        },
        {
          "name": "stderr",
          "output_type": "stream",
          "text": [
            "Loss=1.0125988721847534 Batch_id=390 Accuracy=68.65: 100%|██████████| 391/391 [00:29<00:00, 13.17it/s]\n"
          ]
        },
        {
          "name": "stdout",
          "output_type": "stream",
          "text": [
            "\n",
            "Test set: Average loss: 0.8622, Accuracy: 6983/10000 (69.83%)\n",
            "\n",
            "EPOCH: 6\n"
          ]
        },
        {
          "name": "stderr",
          "output_type": "stream",
          "text": [
            "Loss=0.6855047941207886 Batch_id=390 Accuracy=70.07: 100%|██████████| 391/391 [00:24<00:00, 16.03it/s]\n"
          ]
        },
        {
          "name": "stdout",
          "output_type": "stream",
          "text": [
            "\n",
            "Test set: Average loss: 0.8729, Accuracy: 7017/10000 (70.17%)\n",
            "\n",
            "EPOCH: 7\n"
          ]
        },
        {
          "name": "stderr",
          "output_type": "stream",
          "text": [
            "Loss=0.8864132761955261 Batch_id=390 Accuracy=70.72: 100%|██████████| 391/391 [00:24<00:00, 16.25it/s]\n"
          ]
        },
        {
          "name": "stdout",
          "output_type": "stream",
          "text": [
            "\n",
            "Test set: Average loss: 0.8347, Accuracy: 7095/10000 (70.95%)\n",
            "\n",
            "EPOCH: 8\n"
          ]
        },
        {
          "name": "stderr",
          "output_type": "stream",
          "text": [
            "Loss=0.8731245994567871 Batch_id=390 Accuracy=71.56: 100%|██████████| 391/391 [00:24<00:00, 15.81it/s]\n"
          ]
        },
        {
          "name": "stdout",
          "output_type": "stream",
          "text": [
            "\n",
            "Test set: Average loss: 0.8777, Accuracy: 6961/10000 (69.61%)\n",
            "\n",
            "EPOCH: 9\n"
          ]
        },
        {
          "name": "stderr",
          "output_type": "stream",
          "text": [
            "Loss=0.7246647477149963 Batch_id=390 Accuracy=72.29: 100%|██████████| 391/391 [00:24<00:00, 15.82it/s]\n"
          ]
        },
        {
          "name": "stdout",
          "output_type": "stream",
          "text": [
            "\n",
            "Test set: Average loss: 0.7778, Accuracy: 7320/10000 (73.20%)\n",
            "\n"
          ]
        }
      ],
      "source": [
        "import torch.optim as optim\n",
        "import torch.nn as nn\n",
        "\n",
        "optimizer = optim.SGD(model.parameters(), lr=0.1, momentum=0.9)\n",
        "EPOCHS = 10\n",
        "\n",
        "for epoch in range(EPOCHS):\n",
        "    print(\"EPOCH:\", epoch)\n",
        "    train(model, device, train_loader, optimizer, epoch)\n",
        "    test(model, device, test_loader)"
      ]
    },
    {
      "cell_type": "code",
      "execution_count": 84,
      "metadata": {
        "id": "wBk_SVUB_nbU"
      },
      "outputs": [],
      "source": [
        "torch.save(model.state_dict(), f\"./cifar_10_bn.pth\")"
      ]
    },
    {
      "cell_type": "code",
      "execution_count": 152,
      "metadata": {
        "id": "VWzCJiKo-RY9"
      },
      "outputs": [],
      "source": [
        "import matplotlib.pyplot as plt\n",
        "import numpy as np\n",
        "def imshow(img):\n",
        "    img = img / 2 + 0.5     # unnormalize\n",
        "    npimg = img.numpy()\n",
        "    plt.imshow(np.transpose(npimg, (1, 2, 0)))\n",
        "\n",
        "def show_misclassified_images_from_model(model, model_path, data_loader, class_labels, image_count):\n",
        "  model.load_state_dict(torch.load(model_path))\n",
        "  model.to(device)\n",
        "  model.eval()\n",
        "\n",
        "  correct = 0\n",
        "  figure = plt.figure(figsize=(15,15))\n",
        "  count = 0\n",
        "  with torch.no_grad():\n",
        "      for data, target in data_loader:\n",
        "          data, target = data.to(device), target.to(device)\n",
        "          output = model(data)\n",
        "          pred = output.argmax(dim=1, keepdim=True)  # get the index of the max log-probability\n",
        "          correct += pred.eq(target.view_as(pred)).sum().item()\n",
        "\n",
        "          for idx in range(len(pred)):\n",
        "            i_pred, i_act = pred[idx], target[idx]\n",
        "            if i_pred != i_act:\n",
        "                annotation = \"Actual: %s, Predicted: %s\" % (class_labels[i_act], class_labels[i_pred])\n",
        "                count += 1\n",
        "                plt.subplot(5, 2, count)\n",
        "                plt.axis('off')\n",
        "                imshow(data[idx].cpu())\n",
        "                plt.annotate(annotation, xy=(0,0), xytext=(0,-1.2), fontsize=13)\n",
        "            if count == image_count:\n",
        "                return"
      ]
    },
    {
      "cell_type": "code",
      "execution_count": 153,
      "metadata": {
        "colab": {
          "base_uri": "https://localhost:8080/",
          "height": 1000
        },
        "id": "mOXtCkid_GXl",
        "outputId": "048414af-1a5e-49f1-f608-56045131f58b"
      },
      "outputs": [
        {
          "name": "stderr",
          "output_type": "stream",
          "text": [
            "WARNING:matplotlib.image:Clipping input data to the valid range for imshow with RGB data ([0..1] for floats or [0..255] for integers).\n",
            "WARNING:matplotlib.image:Clipping input data to the valid range for imshow with RGB data ([0..1] for floats or [0..255] for integers).\n",
            "WARNING:matplotlib.image:Clipping input data to the valid range for imshow with RGB data ([0..1] for floats or [0..255] for integers).\n",
            "WARNING:matplotlib.image:Clipping input data to the valid range for imshow with RGB data ([0..1] for floats or [0..255] for integers).\n",
            "WARNING:matplotlib.image:Clipping input data to the valid range for imshow with RGB data ([0..1] for floats or [0..255] for integers).\n",
            "WARNING:matplotlib.image:Clipping input data to the valid range for imshow with RGB data ([0..1] for floats or [0..255] for integers).\n",
            "WARNING:matplotlib.image:Clipping input data to the valid range for imshow with RGB data ([0..1] for floats or [0..255] for integers).\n",
            "WARNING:matplotlib.image:Clipping input data to the valid range for imshow with RGB data ([0..1] for floats or [0..255] for integers).\n",
            "WARNING:matplotlib.image:Clipping input data to the valid range for imshow with RGB data ([0..1] for floats or [0..255] for integers).\n",
            "WARNING:matplotlib.image:Clipping input data to the valid range for imshow with RGB data ([0..1] for floats or [0..255] for integers).\n"
          ]
        },
        {
          "data": {
            "image/png": "[encoded data removed]",
            "text/plain": [
              "<Figure size 1500x1500 with 10 Axes>"
            ]
          },
          "metadata": {},
          "output_type": "display_data"
        }
      ],
      "source": [
        "classes = ('plane', 'car', 'bird', 'cat',\n",
        "           'deer', 'dog', 'frog', 'horse', 'ship', 'truck')\n",
        "show_misclassified_images_from_model(model, \"./cifar_10_bn.pth\", test_loader, classes, 10)"
      ]
    }
  ],
  "metadata": {
    "accelerator": "GPU",
    "colab": {
      "gpuType": "T4",
      "provenance": []
    },
    "kernelspec": {
      "display_name": "Python 3",
      "name": "python3"
    },
    "language_info": {
      "name": "python"
    }
  },
  "nbformat": 4,
  "nbformat_minor": 0
}
