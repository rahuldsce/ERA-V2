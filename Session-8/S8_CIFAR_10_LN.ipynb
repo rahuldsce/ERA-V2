{
  "nbformat": 4,
  "nbformat_minor": 0,
  "metadata": {
    "colab": {
      "provenance": [],
      "gpuType": "T4"
    },
    "kernelspec": {
      "name": "python3",
      "display_name": "Python 3"
    },
    "language_info": {
      "name": "python"
    },
    "accelerator": "GPU"
  },
  "cells": [
    {
      "cell_type": "code",
      "source": [
        "!rm -rf pytorch_utils\n",
        "!git clone https://github.com/rahuldsce/pytorch_utils.git"
      ],
      "metadata": {
        "colab": {
          "base_uri": "https://localhost:8080/"
        },
        "id": "CiAJ-IPlHE7H",
        "outputId": "e86a706c-042e-490d-d90e-fa8a48bb7ba3"
      },
      "execution_count": 58,
      "outputs": [
        {
          "output_type": "stream",
          "name": "stdout",
          "text": [
            "Cloning into 'pytorch_utils'...\n",
            "remote: Enumerating objects: 43, done.\u001b[K\n",
            "remote: Counting objects: 100% (43/43), done.\u001b[K\n",
            "remote: Compressing objects: 100% (40/40), done.\u001b[K\n",
            "remote: Total 43 (delta 13), reused 0 (delta 0), pack-reused 0\u001b[K\n",
            "Receiving objects: 100% (43/43), 17.13 KiB | 2.45 MiB/s, done.\n",
            "Resolving deltas: 100% (13/13), done.\n"
          ]
        }
      ]
    },
    {
      "cell_type": "code",
      "source": [
        "import torch\n",
        "import torchvision\n",
        "import torchvision.transforms as transforms\n",
        "from torchsummary import summary"
      ],
      "metadata": {
        "id": "_lisZKZzxTFX"
      },
      "execution_count": 59,
      "outputs": []
    },
    {
      "cell_type": "code",
      "source": [
        "import torch.nn as nn\n",
        "import torch.nn.functional as F"
      ],
      "metadata": {
        "id": "rYfCOzmIzyx9"
      },
      "execution_count": 60,
      "outputs": []
    },
    {
      "cell_type": "code",
      "source": [
        "from pytorch_utils import dataset, model\n",
        "train, test = dataset.cifar10()"
      ],
      "metadata": {
        "id": "fST8UJ7jHKSz",
        "colab": {
          "base_uri": "https://localhost:8080/"
        },
        "outputId": "695d2b9d-1cd5-48b9-febc-873fe6736c92"
      },
      "execution_count": 64,
      "outputs": [
        {
          "output_type": "stream",
          "name": "stdout",
          "text": [
            "Files already downloaded and verified\n",
            "Files already downloaded and verified\n"
          ]
        }
      ]
    },
    {
      "cell_type": "code",
      "source": [
        "SEED = 1\n",
        "\n",
        "# CUDA?\n",
        "cuda = torch.cuda.is_available()\n",
        "print(\"CUDA Available?\", cuda)\n",
        "\n",
        "# For reproducibility\n",
        "torch.manual_seed(SEED)\n",
        "\n",
        "if cuda:\n",
        "    torch.cuda.manual_seed(SEED)\n",
        "\n",
        "# dataloader arguments - something you'll fetch these from cmdprmt\n",
        "dataloader_args = dict(shuffle=True, batch_size=128, num_workers=2, pin_memory=True) if cuda else dict(shuffle=True, batch_size=64)\n",
        "\n",
        "# train dataloader\n",
        "train_loader = torch.utils.data.DataLoader(train, **dataloader_args)\n",
        "\n",
        "# test dataloader\n",
        "test_loader = torch.utils.data.DataLoader(test, **dataloader_args)"
      ],
      "metadata": {
        "colab": {
          "base_uri": "https://localhost:8080/"
        },
        "id": "-zuwrzt8yRoB",
        "outputId": "641e1203-ab31-41fd-8aac-9ae0ea8d380a"
      },
      "execution_count": 65,
      "outputs": [
        {
          "output_type": "stream",
          "name": "stdout",
          "text": [
            "CUDA Available? True\n"
          ]
        }
      ]
    },
    {
      "cell_type": "code",
      "source": [
        "use_cuda = torch.cuda.is_available()\n",
        "device = torch.device(\"cuda\" if use_cuda else \"cpu\")\n",
        "cifar10_model = model.Cifar10_LN().to(device)\n",
        "summary(cifar10_model, input_size=(3, 32, 32))"
      ],
      "metadata": {
        "colab": {
          "base_uri": "https://localhost:8080/"
        },
        "id": "HGJsh2X-1eXx",
        "outputId": "dfd6d74d-6ef1-41f4-bd8a-bf52abd06648"
      },
      "execution_count": 67,
      "outputs": [
        {
          "output_type": "stream",
          "name": "stdout",
          "text": [
            "----------------------------------------------------------------\n",
            "        Layer (type)               Output Shape         Param #\n",
            "================================================================\n",
            "            Conv2d-1           [-1, 16, 32, 32]             432\n",
            "              ReLU-2           [-1, 16, 32, 32]               0\n",
            "         LayerNorm-3           [-1, 16, 32, 32]          32,768\n",
            "           Dropout-4           [-1, 16, 32, 32]               0\n",
            "            Conv2d-5           [-1, 32, 32, 32]           4,608\n",
            "              ReLU-6           [-1, 32, 32, 32]               0\n",
            "         LayerNorm-7           [-1, 32, 32, 32]          65,536\n",
            "           Dropout-8           [-1, 32, 32, 32]               0\n",
            "         MaxPool2d-9           [-1, 32, 16, 16]               0\n",
            "           Conv2d-10           [-1, 16, 16, 16]             512\n",
            "           Conv2d-11           [-1, 16, 16, 16]           2,304\n",
            "             ReLU-12           [-1, 16, 16, 16]               0\n",
            "        LayerNorm-13           [-1, 16, 16, 16]           8,192\n",
            "          Dropout-14           [-1, 16, 16, 16]               0\n",
            "           Conv2d-15           [-1, 32, 16, 16]           4,608\n",
            "             ReLU-16           [-1, 32, 16, 16]               0\n",
            "        LayerNorm-17           [-1, 32, 16, 16]          16,384\n",
            "          Dropout-18           [-1, 32, 16, 16]               0\n",
            "           Conv2d-19           [-1, 32, 16, 16]           9,216\n",
            "             ReLU-20           [-1, 32, 16, 16]               0\n",
            "        LayerNorm-21           [-1, 32, 16, 16]          16,384\n",
            "          Dropout-22           [-1, 32, 16, 16]               0\n",
            "        MaxPool2d-23             [-1, 32, 8, 8]               0\n",
            "           Conv2d-24             [-1, 16, 8, 8]             512\n",
            "           Conv2d-25             [-1, 16, 8, 8]           2,304\n",
            "             ReLU-26             [-1, 16, 8, 8]               0\n",
            "        LayerNorm-27             [-1, 16, 8, 8]           2,048\n",
            "          Dropout-28             [-1, 16, 8, 8]               0\n",
            "           Conv2d-29             [-1, 32, 8, 8]           4,608\n",
            "             ReLU-30             [-1, 32, 8, 8]               0\n",
            "        LayerNorm-31             [-1, 32, 8, 8]           4,096\n",
            "          Dropout-32             [-1, 32, 8, 8]               0\n",
            "           Conv2d-33             [-1, 32, 8, 8]           9,216\n",
            "             ReLU-34             [-1, 32, 8, 8]               0\n",
            "        LayerNorm-35             [-1, 32, 8, 8]           4,096\n",
            "          Dropout-36             [-1, 32, 8, 8]               0\n",
            "        AvgPool2d-37             [-1, 32, 1, 1]               0\n",
            "           Conv2d-38             [-1, 10, 1, 1]             320\n",
            "================================================================\n",
            "Total params: 188,144\n",
            "Trainable params: 188,144\n",
            "Non-trainable params: 0\n",
            "----------------------------------------------------------------\n",
            "Input size (MB): 0.01\n",
            "Forward/backward pass size (MB): 2.40\n",
            "Params size (MB): 0.72\n",
            "Estimated Total Size (MB): 3.13\n",
            "----------------------------------------------------------------\n"
          ]
        }
      ]
    },
    {
      "cell_type": "code",
      "source": [
        "from tqdm import tqdm\n",
        "\n",
        "train_losses = []\n",
        "test_losses = []\n",
        "train_acc = []\n",
        "test_acc = []\n",
        "\n",
        "def train(model, device, train_loader, optimizer, epoch):\n",
        "  model.train()\n",
        "  pbar = tqdm(train_loader)\n",
        "  correct = 0\n",
        "  processed = 0\n",
        "  for batch_idx, (data, target) in enumerate(pbar):\n",
        "    # get samples\n",
        "    data, target = data.to(device), target.to(device)\n",
        "\n",
        "    # Init\n",
        "    optimizer.zero_grad()\n",
        "    # In PyTorch, we need to set the gradients to zero before starting to do backpropragation because PyTorch accumulates the gradients on subsequent backward passes.\n",
        "    # Because of this, when you start your training loop, ideally you should zero out the gradients so that you do the parameter update correctly.\n",
        "\n",
        "    # Predict\n",
        "    y_pred = model(data)\n",
        "\n",
        "    # Calculate loss\n",
        "    loss = F.nll_loss(y_pred, target)\n",
        "    train_losses.append(loss)\n",
        "\n",
        "    # Backpropagation\n",
        "    loss.backward()\n",
        "    optimizer.step()\n",
        "\n",
        "    # Update pbar-tqdm\n",
        "\n",
        "    pred = y_pred.argmax(dim=1, keepdim=True)  # get the index of the max log-probability\n",
        "    correct += pred.eq(target.view_as(pred)).sum().item()\n",
        "    processed += len(data)\n",
        "\n",
        "    pbar.set_description(desc= f'Loss={loss.item()} Batch_id={batch_idx} Accuracy={100*correct/processed:0.2f}')\n",
        "    train_acc.append(100*correct/processed)\n",
        "\n",
        "def test(model, device, test_loader):\n",
        "    model.eval()\n",
        "    test_loss = 0\n",
        "    correct = 0\n",
        "    with torch.no_grad():\n",
        "        for data, target in test_loader:\n",
        "            data, target = data.to(device), target.to(device)\n",
        "            output = model(data)\n",
        "            test_loss += F.nll_loss(output, target, reduction='sum').item()  # sum up batch loss\n",
        "            pred = output.argmax(dim=1, keepdim=True)  # get the index of the max log-probability\n",
        "            correct += pred.eq(target.view_as(pred)).sum().item()\n",
        "\n",
        "    test_loss /= len(test_loader.dataset)\n",
        "    test_losses.append(test_loss)\n",
        "\n",
        "    print('\\nTest set: Average loss: {:.4f}, Accuracy: {}/{} ({:.2f}%)\\n'.format(\n",
        "        test_loss, correct, len(test_loader.dataset),\n",
        "        100. * correct / len(test_loader.dataset)))\n",
        "\n",
        "    test_acc.append(100. * correct / len(test_loader.dataset))"
      ],
      "metadata": {
        "id": "i8FTZZxn4BcB"
      },
      "execution_count": 68,
      "outputs": []
    },
    {
      "cell_type": "code",
      "source": [
        "import torch.optim as optim\n",
        "import torch.nn as nn\n",
        "\n",
        "optimizer = optim.SGD(cifar10_model.parameters(), lr=0.1, momentum=0.9)\n",
        "EPOCHS = 20\n",
        "\n",
        "for epoch in range(EPOCHS):\n",
        "    print(\"EPOCH:\", epoch)\n",
        "    train(cifar10_model, device, train_loader, optimizer, epoch)\n",
        "    test(cifar10_model, device, test_loader)"
      ],
      "metadata": {
        "colab": {
          "base_uri": "https://localhost:8080/"
        },
        "id": "FuUtTDZz5wAl",
        "outputId": "86b8dbac-aadd-4c08-edd0-ec72b9202aba"
      },
      "execution_count": 69,
      "outputs": [
        {
          "output_type": "stream",
          "name": "stdout",
          "text": [
            "EPOCH: 0\n"
          ]
        },
        {
          "output_type": "stream",
          "name": "stderr",
          "text": [
            "Loss=1.6464735269546509 Batch_id=390 Accuracy=27.84: 100%|██████████| 391/391 [00:32<00:00, 12.02it/s]\n"
          ]
        },
        {
          "output_type": "stream",
          "name": "stdout",
          "text": [
            "\n",
            "Test set: Average loss: 1.7612, Accuracy: 3472/10000 (34.72%)\n",
            "\n",
            "EPOCH: 1\n"
          ]
        },
        {
          "output_type": "stream",
          "name": "stderr",
          "text": [
            "Loss=1.6178529262542725 Batch_id=390 Accuracy=37.21: 100%|██████████| 391/391 [00:27<00:00, 14.47it/s]\n"
          ]
        },
        {
          "output_type": "stream",
          "name": "stdout",
          "text": [
            "\n",
            "Test set: Average loss: 1.5896, Accuracy: 4139/10000 (41.39%)\n",
            "\n",
            "EPOCH: 2\n"
          ]
        },
        {
          "output_type": "stream",
          "name": "stderr",
          "text": [
            "Loss=1.4959824085235596 Batch_id=390 Accuracy=43.57: 100%|██████████| 391/391 [00:27<00:00, 14.15it/s]\n"
          ]
        },
        {
          "output_type": "stream",
          "name": "stdout",
          "text": [
            "\n",
            "Test set: Average loss: 1.5203, Accuracy: 4464/10000 (44.64%)\n",
            "\n",
            "EPOCH: 3\n"
          ]
        },
        {
          "output_type": "stream",
          "name": "stderr",
          "text": [
            "Loss=1.3774733543395996 Batch_id=390 Accuracy=49.34: 100%|██████████| 391/391 [00:27<00:00, 14.45it/s]\n"
          ]
        },
        {
          "output_type": "stream",
          "name": "stdout",
          "text": [
            "\n",
            "Test set: Average loss: 1.2818, Accuracy: 5359/10000 (53.59%)\n",
            "\n",
            "EPOCH: 4\n"
          ]
        },
        {
          "output_type": "stream",
          "name": "stderr",
          "text": [
            "Loss=1.262516736984253 Batch_id=390 Accuracy=53.53: 100%|██████████| 391/391 [00:27<00:00, 14.19it/s]\n"
          ]
        },
        {
          "output_type": "stream",
          "name": "stdout",
          "text": [
            "\n",
            "Test set: Average loss: 1.2219, Accuracy: 5538/10000 (55.38%)\n",
            "\n",
            "EPOCH: 5\n"
          ]
        },
        {
          "output_type": "stream",
          "name": "stderr",
          "text": [
            "Loss=1.164382815361023 Batch_id=390 Accuracy=56.73: 100%|██████████| 391/391 [00:27<00:00, 14.40it/s]\n"
          ]
        },
        {
          "output_type": "stream",
          "name": "stdout",
          "text": [
            "\n",
            "Test set: Average loss: 1.1480, Accuracy: 5887/10000 (58.87%)\n",
            "\n",
            "EPOCH: 6\n"
          ]
        },
        {
          "output_type": "stream",
          "name": "stderr",
          "text": [
            "Loss=1.235074520111084 Batch_id=390 Accuracy=59.08: 100%|██████████| 391/391 [00:27<00:00, 14.03it/s]\n"
          ]
        },
        {
          "output_type": "stream",
          "name": "stdout",
          "text": [
            "\n",
            "Test set: Average loss: 1.0973, Accuracy: 6109/10000 (61.09%)\n",
            "\n",
            "EPOCH: 7\n"
          ]
        },
        {
          "output_type": "stream",
          "name": "stderr",
          "text": [
            "Loss=1.2096179723739624 Batch_id=390 Accuracy=61.15: 100%|██████████| 391/391 [00:27<00:00, 14.16it/s]\n"
          ]
        },
        {
          "output_type": "stream",
          "name": "stdout",
          "text": [
            "\n",
            "Test set: Average loss: 1.0396, Accuracy: 6396/10000 (63.96%)\n",
            "\n",
            "EPOCH: 8\n"
          ]
        },
        {
          "output_type": "stream",
          "name": "stderr",
          "text": [
            "Loss=1.0207276344299316 Batch_id=390 Accuracy=62.88: 100%|██████████| 391/391 [00:27<00:00, 14.23it/s]\n"
          ]
        },
        {
          "output_type": "stream",
          "name": "stdout",
          "text": [
            "\n",
            "Test set: Average loss: 0.9733, Accuracy: 6534/10000 (65.34%)\n",
            "\n",
            "EPOCH: 9\n"
          ]
        },
        {
          "output_type": "stream",
          "name": "stderr",
          "text": [
            "Loss=1.1031497716903687 Batch_id=390 Accuracy=64.30: 100%|██████████| 391/391 [00:27<00:00, 14.43it/s]\n"
          ]
        },
        {
          "output_type": "stream",
          "name": "stdout",
          "text": [
            "\n",
            "Test set: Average loss: 0.9647, Accuracy: 6540/10000 (65.40%)\n",
            "\n",
            "EPOCH: 10\n"
          ]
        },
        {
          "output_type": "stream",
          "name": "stderr",
          "text": [
            "Loss=0.9825423359870911 Batch_id=390 Accuracy=65.60: 100%|██████████| 391/391 [00:27<00:00, 14.16it/s]\n"
          ]
        },
        {
          "output_type": "stream",
          "name": "stdout",
          "text": [
            "\n",
            "Test set: Average loss: 0.9381, Accuracy: 6724/10000 (67.24%)\n",
            "\n",
            "EPOCH: 11\n"
          ]
        },
        {
          "output_type": "stream",
          "name": "stderr",
          "text": [
            "Loss=1.476780891418457 Batch_id=390 Accuracy=66.69: 100%|██████████| 391/391 [00:27<00:00, 14.22it/s]\n"
          ]
        },
        {
          "output_type": "stream",
          "name": "stdout",
          "text": [
            "\n",
            "Test set: Average loss: 0.9202, Accuracy: 6736/10000 (67.36%)\n",
            "\n",
            "EPOCH: 12\n"
          ]
        },
        {
          "output_type": "stream",
          "name": "stderr",
          "text": [
            "Loss=0.7730557918548584 Batch_id=390 Accuracy=67.82: 100%|██████████| 391/391 [00:27<00:00, 14.22it/s]\n"
          ]
        },
        {
          "output_type": "stream",
          "name": "stdout",
          "text": [
            "\n",
            "Test set: Average loss: 0.8961, Accuracy: 6857/10000 (68.57%)\n",
            "\n",
            "EPOCH: 13\n"
          ]
        },
        {
          "output_type": "stream",
          "name": "stderr",
          "text": [
            "Loss=0.8886672258377075 Batch_id=390 Accuracy=68.39: 100%|██████████| 391/391 [00:27<00:00, 14.10it/s]\n"
          ]
        },
        {
          "output_type": "stream",
          "name": "stdout",
          "text": [
            "\n",
            "Test set: Average loss: 0.8977, Accuracy: 6834/10000 (68.34%)\n",
            "\n",
            "EPOCH: 14\n"
          ]
        },
        {
          "output_type": "stream",
          "name": "stderr",
          "text": [
            "Loss=0.7960505485534668 Batch_id=390 Accuracy=68.91: 100%|██████████| 391/391 [00:27<00:00, 14.30it/s]\n"
          ]
        },
        {
          "output_type": "stream",
          "name": "stdout",
          "text": [
            "\n",
            "Test set: Average loss: 0.8403, Accuracy: 7059/10000 (70.59%)\n",
            "\n",
            "EPOCH: 15\n"
          ]
        },
        {
          "output_type": "stream",
          "name": "stderr",
          "text": [
            "Loss=0.7246102094650269 Batch_id=390 Accuracy=69.79: 100%|██████████| 391/391 [00:27<00:00, 14.18it/s]\n"
          ]
        },
        {
          "output_type": "stream",
          "name": "stdout",
          "text": [
            "\n",
            "Test set: Average loss: 0.8434, Accuracy: 7062/10000 (70.62%)\n",
            "\n",
            "EPOCH: 16\n"
          ]
        },
        {
          "output_type": "stream",
          "name": "stderr",
          "text": [
            "Loss=0.8069467544555664 Batch_id=390 Accuracy=70.67: 100%|██████████| 391/391 [00:28<00:00, 13.84it/s]\n"
          ]
        },
        {
          "output_type": "stream",
          "name": "stdout",
          "text": [
            "\n",
            "Test set: Average loss: 0.8235, Accuracy: 7160/10000 (71.60%)\n",
            "\n",
            "EPOCH: 17\n"
          ]
        },
        {
          "output_type": "stream",
          "name": "stderr",
          "text": [
            "Loss=0.8028321266174316 Batch_id=390 Accuracy=71.06: 100%|██████████| 391/391 [00:27<00:00, 14.22it/s]\n"
          ]
        },
        {
          "output_type": "stream",
          "name": "stdout",
          "text": [
            "\n",
            "Test set: Average loss: 0.8053, Accuracy: 7181/10000 (71.81%)\n",
            "\n",
            "EPOCH: 18\n"
          ]
        },
        {
          "output_type": "stream",
          "name": "stderr",
          "text": [
            "Loss=0.8957668542861938 Batch_id=390 Accuracy=71.71: 100%|██████████| 391/391 [00:27<00:00, 14.19it/s]\n"
          ]
        },
        {
          "output_type": "stream",
          "name": "stdout",
          "text": [
            "\n",
            "Test set: Average loss: 0.7695, Accuracy: 7285/10000 (72.85%)\n",
            "\n",
            "EPOCH: 19\n"
          ]
        },
        {
          "output_type": "stream",
          "name": "stderr",
          "text": [
            "Loss=0.6172940731048584 Batch_id=390 Accuracy=72.46: 100%|██████████| 391/391 [00:27<00:00, 14.19it/s]\n"
          ]
        },
        {
          "output_type": "stream",
          "name": "stdout",
          "text": [
            "\n",
            "Test set: Average loss: 0.7404, Accuracy: 7398/10000 (73.98%)\n",
            "\n"
          ]
        }
      ]
    },
    {
      "cell_type": "code",
      "source": [
        "torch.save(model.state_dict(), f\"./cifar_10_ln.pth\")"
      ],
      "metadata": {
        "id": "wBk_SVUB_nbU"
      },
      "execution_count": 55,
      "outputs": []
    },
    {
      "cell_type": "code",
      "source": [
        "import matplotlib.pyplot as plt\n",
        "import numpy as np\n",
        "\n",
        "def imshow(img):\n",
        "    img = img / 2 + 0.5     # unnormalize\n",
        "    npimg = img.numpy()\n",
        "    plt.imshow(np.transpose(npimg, (1, 2, 0)))\n",
        "\n",
        "def show_misclassified_images_from_model(model, model_path, data_loader, class_labels, image_count):\n",
        "  model.load_state_dict(torch.load(model_path))\n",
        "  model.to(device)\n",
        "  model.eval()\n",
        "\n",
        "  correct = 0\n",
        "  figure = plt.figure(figsize=(15,15))\n",
        "  count = 0\n",
        "  with torch.no_grad():\n",
        "      for data, target in data_loader:\n",
        "          data, target = data.to(device), target.to(device)\n",
        "          output = model(data)\n",
        "          pred = output.argmax(dim=1, keepdim=True)  # get the index of the max log-probability\n",
        "          correct += pred.eq(target.view_as(pred)).sum().item()\n",
        "\n",
        "          for idx in range(len(pred)):\n",
        "            i_pred, i_act = pred[idx], target[idx]\n",
        "            if i_pred != i_act:\n",
        "                annotation = \"Actual: %s, Predicted: %s\" % (class_labels[i_act], class_labels[i_pred])\n",
        "                count += 1\n",
        "                plt.subplot(5, 2, count)\n",
        "                plt.axis('off')\n",
        "                imshow(data[idx].cpu())\n",
        "                plt.annotate(annotation, xy=(0,0), xytext=(0,-1.2), fontsize=13)\n",
        "            if count == image_count:\n",
        "                return"
      ],
      "metadata": {
        "id": "VWzCJiKo-RY9"
      },
      "execution_count": 56,
      "outputs": []
    },
    {
      "cell_type": "code",
      "source": [
        "classes = ('plane', 'car', 'bird', 'cat',\n",
        "           'deer', 'dog', 'frog', 'horse', 'ship', 'truck')\n",
        "show_misclassified_images_from_model(model, \"./cifar_10_ln.pth\", test_loader, classes, 10)"
      ],
      "metadata": {
        "id": "mOXtCkid_GXl",
        "colab": {
          "base_uri": "https://localhost:8080/",
          "height": 1000
        },
        "outputId": "19843268-9511-4e02-f32f-5cae811e4114"
      },
      "execution_count": 57,
      "outputs": [
        {
          "output_type": "stream",
          "name": "stderr",
          "text": [
            "WARNING:matplotlib.image:Clipping input data to the valid range for imshow with RGB data ([0..1] for floats or [0..255] for integers).\n",
            "WARNING:matplotlib.image:Clipping input data to the valid range for imshow with RGB data ([0..1] for floats or [0..255] for integers).\n",
            "WARNING:matplotlib.image:Clipping input data to the valid range for imshow with RGB data ([0..1] for floats or [0..255] for integers).\n",
            "WARNING:matplotlib.image:Clipping input data to the valid range for imshow with RGB data ([0..1] for floats or [0..255] for integers).\n",
            "WARNING:matplotlib.image:Clipping input data to the valid range for imshow with RGB data ([0..1] for floats or [0..255] for integers).\n",
            "WARNING:matplotlib.image:Clipping input data to the valid range for imshow with RGB data ([0..1] for floats or [0..255] for integers).\n",
            "WARNING:matplotlib.image:Clipping input data to the valid range for imshow with RGB data ([0..1] for floats or [0..255] for integers).\n",
            "WARNING:matplotlib.image:Clipping input data to the valid range for imshow with RGB data ([0..1] for floats or [0..255] for integers).\n",
            "WARNING:matplotlib.image:Clipping input data to the valid range for imshow with RGB data ([0..1] for floats or [0..255] for integers).\n",
            "WARNING:matplotlib.image:Clipping input data to the valid range for imshow with RGB data ([0..1] for floats or [0..255] for integers).\n"
          ]
        },
        {
          "output_type": "display_data",
          "data": {
            "text/plain": [
              "<Figure size 1500x1500 with 10 Axes>"
            ],
            "image/png": "[encoded data removed]"
          },
          "metadata": {}
        }
      ]
    }
  ]
}